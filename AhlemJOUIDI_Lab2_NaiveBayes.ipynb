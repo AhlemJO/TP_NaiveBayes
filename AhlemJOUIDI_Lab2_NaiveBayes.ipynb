{
 "cells": [
  {
   "cell_type": "markdown",
   "metadata": {},
   "source": [
    "# <center> <font color='red'> Sentiment analyses in textual movie reviews </font>  </center> "
   ]
  },
  {
   "cell_type": "markdown",
   "metadata": {},
   "source": [
    "<b>Student :</b> Ahlem JOUIDI"
   ]
  },
  {
   "cell_type": "markdown",
   "metadata": {},
   "source": [
    "<b> Objectives</b>\n",
    "\n",
    "The objective of this lab is to implement a classification algorithm of movie reviews according to the\n",
    "polarity of the opinions expressed (positive / negative). We speak in English of “ sentiment analysis ”.\n",
    "The algorithm used will be the naive Bayes classifier. The language to use is Python."
   ]
  },
  {
   "cell_type": "markdown",
   "metadata": {},
   "source": [
    "### Librairies "
   ]
  },
  {
   "cell_type": "code",
   "execution_count": 1,
   "metadata": {},
   "outputs": [],
   "source": [
    "import os.path as op\n",
    "import numpy as np\n",
    "\n",
    "import re\n",
    "from collections import Counter\n",
    "\n",
    "from sklearn.base import BaseEstimator, ClassifierMixin\n",
    "\n",
    "from glob import glob\n",
    "\n",
    "from sklearn.model_selection import cross_val_score\n",
    "import matplotlib.pyplot as plt"
   ]
  },
  {
   "cell_type": "code",
   "execution_count": 2,
   "metadata": {},
   "outputs": [
    {
     "name": "stdout",
     "output_type": "stream",
     "text": [
      "Loading dataset\n",
      "2000 documents\n"
     ]
    }
   ],
   "source": [
    "###############################################################################\n",
    "# Load data\n",
    "print(\"Loading dataset\")\n",
    "\n",
    "filenames_neg = sorted(glob(op.join('data','data', 'imdb1', 'neg', '*.txt')))\n",
    "filenames_pos = sorted(glob(op.join( 'data','data', 'imdb1', 'pos', '*.txt')))\n",
    "\n",
    "texts_neg = [open(f).read() for f in filenames_neg]\n",
    "texts_pos = [open(f).read() for f in filenames_pos]\n",
    "texts = texts_neg + texts_pos\n",
    "y = np.ones(len(texts), dtype=np.int)\n",
    "y[:len(texts_neg)] = 0.\n",
    "\n",
    "print(\"%d documents\" % len(texts))\n"
   ]
  },
  {
   "cell_type": "markdown",
   "metadata": {},
   "source": [
    "## Implementation of the classifier"
   ]
  },
  {
   "cell_type": "markdown",
   "metadata": {},
   "source": [
    "### Q1. Complete the count_words function that will count the number of occurrences of each distinct word in a list of string and return vocabulary (the python dictionary) and counts. Do not forget to delete the punctuation. Give the vocabulary size."
   ]
  },
  {
   "cell_type": "code",
   "execution_count": 58,
   "metadata": {},
   "outputs": [],
   "source": [
    "###############################################################################\n",
    "# Start part to fill in\n",
    "\n",
    "def count_words(texts):\n",
    "    \"\"\"Vectorize text : return count of each word in the text snippets\n",
    "\n",
    "    Parameters\n",
    "    ----------\n",
    "    texts : list of str\n",
    "        The texts\n",
    "\n",
    "    Returns\n",
    "    -------\n",
    "    vocabulary : dict\n",
    "        A dictionary that points to an index in counts for each word.\n",
    "    counts : ndarray, shape (n_samples, n_features)\n",
    "        The counts of each word in each text.\n",
    "        n_samples == number of documents.\n",
    "        n_features == number of words in vocabulary.\n",
    "    \"\"\"\n",
    "    words = set()\n",
    "    vocabulary={}\n",
    "    position=0\n",
    "    \n",
    "    ##Built vocabulary\n",
    "    for text in texts:                 \n",
    "        text = re.sub(r'[\\W_]',' ',text) #remove punctuation\n",
    "        for word in text.split() :\n",
    "            \n",
    "            if word not in words :\n",
    "                words.add(word)\n",
    "                vocabulary[word]=position\n",
    "                position+=1\n",
    "     \n",
    "    n_features = len(vocabulary)\n",
    "    print('The number of features is {}'.format(n_features))\n",
    "    counts = np.zeros((len(texts), n_features))\n",
    "    \n",
    "       \n",
    "    for (i, text) in enumerate(texts):\n",
    "        text = re.sub(r'[\\W_]',' ',text) #remove punctuation\n",
    "        for word in text.split():\n",
    "            counts[i,vocabulary[word]]+=1\n",
    "   \n",
    "            \n",
    "    return vocabulary, counts\n"
   ]
  },
  {
   "cell_type": "code",
   "execution_count": 59,
   "metadata": {},
   "outputs": [
    {
     "name": "stdout",
     "output_type": "stream",
     "text": [
      "The number of features is 39399\n",
      "[[1. 2. 4. ... 0. 0. 0.]\n",
      " [0. 0. 0. ... 0. 0. 0.]\n",
      " [2. 1. 1. ... 0. 0. 0.]\n",
      " ...\n",
      " [0. 0. 0. ... 0. 0. 0.]\n",
      " [1. 0. 0. ... 0. 0. 0.]\n",
      " [1. 2. 0. ... 1. 1. 1.]]\n"
     ]
    }
   ],
   "source": [
    "# Count words in text\n",
    "vocabulary, X = count_words(texts)\n",
    "print(np.array(X))"
   ]
  },
  {
   "cell_type": "markdown",
   "metadata": {},
   "source": [
    "### Q2 Explain how positive and negative classes have been assigned to movie reviews (see poldata.README.2.0 file)"
   ]
  },
  {
   "cell_type": "markdown",
   "metadata": {},
   "source": [
    "According to the poldata.README.2.0 file, movie reviews may not have an explicit note. In the case where there is a note, this one can appear to different place of the file and in different forms.The classification of a file is thus established from the first note of which one is able to identify.\n",
    "\n",
    "The maximum rating must be specified explicitly in the text, both for numerical rating and star ratings.\n",
    "\n",
    "- With a five-star system (or compatible number systems): \n",
    "      -Three and a half stars and up are considered positive, \n",
    "\t  -Two stars and below are considered negative.\n",
    "- With a four star system (or compatible number system):\n",
    "\t   -Three stars and up are considered positive, \n",
    "\t   -One and a half stars and below are considered negative.  \n",
    "- With a letter grade system:\n",
    "\t   -B or above is considered positive,\n",
    "\t   -C or below is considered negative.\n",
    "\n",
    "\n"
   ]
  },
  {
   "cell_type": "markdown",
   "metadata": {},
   "source": [
    "### Q3. Complete the NB class to implement the Naive Bayes classifier"
   ]
  },
  {
   "cell_type": "code",
   "execution_count": 30,
   "metadata": {},
   "outputs": [
    {
     "name": "stdout",
     "output_type": "stream",
     "text": [
      "The prediction score is  0.81\n"
     ]
    }
   ],
   "source": [
    "class NB(BaseEstimator, ClassifierMixin):\n",
    "    def __init__(self):\n",
    "        pass \n",
    "\n",
    "    def fit(self, X, y):\n",
    "        \n",
    "        N = len(y) #number of docs\n",
    "        class_counter = Counter(y)\n",
    "        C = list(class_counter.keys()) # list of classes \n",
    "        nb_C = len(C) # number of classes\n",
    "        n_features = X.shape[1]\n",
    "        \n",
    "      \n",
    "        self.prior=np.zeros(nb_C) ##Prior probability\n",
    "        self.cond_prob=np.zeros((nb_C,n_features))   ##conditional probability\n",
    "       \n",
    " \n",
    "        for(i, c) in enumerate(C):\n",
    "            self.prior[i] = class_counter[c]/N    ## Calculating Prior probability\n",
    "            Xc = X[y==c]  ## Get only text of the class c\n",
    "            Tc = np.sum(Xc, axis=0) ###count of each word in the class c\n",
    "            self.cond_prob[i] = np.log(Tc +1) - np.log(np.sum(Tc +1))  ##Laplace smoothing\n",
    "        \n",
    "        return self\n",
    "        \n",
    "    def predict(self, X):\n",
    "        X = np.array(X)\n",
    "        self.prediction = np.argmax(np.log(self.prior) + np.dot(X, self.cond_prob.T), axis=1)\n",
    "        return self.prediction\n",
    "\n",
    "    def score(self, X, y):\n",
    "        #print('The predicted rating\\n ',self.predict(X))\n",
    "        return np.mean(self.predict(X) == y)\n",
    "\n",
    "# Try to fit, predict and score\n",
    "nb = NB()\n",
    "nb.fit(X[::2], y[::2])\n",
    "#print('The original rating\\n',y[1::2])\n",
    "print('The prediction score is ',nb.score(X[1::2], y[1::2]))"
   ]
  },
  {
   "cell_type": "markdown",
   "metadata": {},
   "source": [
    "### Q4. Evaluate the performance of your classifier in cross-validation 5-folds."
   ]
  },
  {
   "cell_type": "code",
   "execution_count": 31,
   "metadata": {},
   "outputs": [],
   "source": [
    "nb = NB()\n",
    "scores = cross_val_score(nb, X[::2], y[::2], cv=5)  ## 5_Folds cross validation"
   ]
  },
  {
   "cell_type": "code",
   "execution_count": 32,
   "metadata": {},
   "outputs": [
    {
     "data": {
      "text/plain": [
       "array([0.74 , 0.815, 0.78 , 0.815, 0.79 ])"
      ]
     },
     "execution_count": 32,
     "metadata": {},
     "output_type": "execute_result"
    }
   ],
   "source": [
    "scores"
   ]
  },
  {
   "cell_type": "markdown",
   "metadata": {},
   "source": [
    "### Q5. Change the count_words function to ignore the “stop words” in the file data/english.stop. Are the performances improved ?"
   ]
  },
  {
   "cell_type": "code",
   "execution_count": 33,
   "metadata": {},
   "outputs": [],
   "source": [
    "###############################################################################\n",
    "# Start part to fill in\n",
    "\n",
    "def count_words_1(texts, stop_words):\n",
    "    \"\"\"Vectorize text : return count of each word in the text snippets\n",
    "\n",
    "    Parameters\n",
    "    ----------\n",
    "    texts : list of str\n",
    "        The texts\n",
    "\n",
    "    Returns\n",
    "    -------\n",
    "    vocabulary : dict\n",
    "        A dictionary that points to an index in counts for each word.\n",
    "    counts : ndarray, shape (n_samples, n_features)\n",
    "        The counts of each word in each text.\n",
    "        n_samples == number of documents.\n",
    "        n_features == number of words in vocabulary.\n",
    "    \"\"\"\n",
    "    words = set()\n",
    "    vocabulary={}\n",
    "    position=0\n",
    "    \n",
    "    ##Built vocabulary\n",
    "    for (i,text) in enumerate(texts):                 \n",
    "        text = re.sub(r'[\\W_]',' ',text) #remove punctuation\n",
    "        \n",
    "        for word in text.split() :\n",
    "            if word not in stop_words :  ##Counting only words that not exist in stop_words\n",
    "                \n",
    "                if word not in words :\n",
    "                    words.add(word)\n",
    "                    vocabulary[word]=position\n",
    "                    position+=1\n",
    "    \n",
    "    n_features = len(vocabulary)\n",
    "    print('The number of features after removing stop words is {}'.format(n_features))\n",
    "    counts = np.zeros((len(texts), n_features))\n",
    "    \n",
    "       \n",
    "    for (i, text) in enumerate(texts):\n",
    "        text = re.sub(r'[\\W_]',' ',text) #remove punctuation\n",
    "        for word in text.split():\n",
    "            if word in words :\n",
    "                counts[i,vocabulary[word]]+=1\n",
    "                   \n",
    "    return vocabulary, counts\n"
   ]
  },
  {
   "cell_type": "code",
   "execution_count": 34,
   "metadata": {},
   "outputs": [],
   "source": [
    "##Having the list of stop_words\n",
    "with open(\"./data/data/english.stop\", 'r') as file:\n",
    "            stop_words = set(file.read())"
   ]
  },
  {
   "cell_type": "code",
   "execution_count": 63,
   "metadata": {},
   "outputs": [
    {
     "name": "stdout",
     "output_type": "stream",
     "text": [
      "The prediction score is  0.811\n"
     ]
    }
   ],
   "source": [
    "# Count words in text\n",
    "vocabulary, X = count_words_1(texts, stop_words)\n",
    "\n",
    "# Try to fit, predict and score\n",
    "nb = NB()\n",
    "nb.fit(X[::2], y[::2])\n",
    "#print('The original rating\\n',y[1::2])\n",
    "print('The prediction score is ',nb.score(X[1::2], y[1::2]))"
   ]
  },
  {
   "cell_type": "code",
   "execution_count": 66,
   "metadata": {},
   "outputs": [
    {
     "data": {
      "text/plain": [
       "array([0.74 , 0.815, 0.78 , 0.815, 0.79 ])"
      ]
     },
     "execution_count": 66,
     "metadata": {},
     "output_type": "execute_result"
    }
   ],
   "source": [
    "nb = NB()\n",
    "scores_with_stop_words = cross_val_score(nb, X[::2], y[::2], cv=5)  ## 5_Folds cross validation\n",
    "scores_with_stop_words"
   ]
  },
  {
   "cell_type": "markdown",
   "metadata": {},
   "source": [
    "### Testing the performance with several K_Fold cross validation."
   ]
  },
  {
   "cell_type": "code",
   "execution_count": 67,
   "metadata": {},
   "outputs": [
    {
     "name": "stdout",
     "output_type": "stream",
     "text": [
      "The number of features is 39399\n"
     ]
    }
   ],
   "source": [
    "vocabulary, X= count_words(texts)\n",
    "vocabulary_sw, X_stopWords = count_words_1(texts, stop_word=True)\n",
    "scores = []\n",
    "scores_stopWords = []\n",
    "nb = NB()\n",
    "\n",
    "for cv in range(2,15):\n",
    "    scores.append(cross_val_score(nb, X, y, cv=cv).mean())\n",
    "    scores_stopWords.append(cross_val_score(nb, X_stopWords, y, cv=cv).mean())"
   ]
  },
  {
   "cell_type": "code",
   "execution_count": 68,
   "metadata": {},
   "outputs": [
    {
     "data": {
      "image/png": "[encoded data removed]",
      "text/plain": [
       "<Figure size 432x288 with 1 Axes>"
      ]
     },
     "metadata": {
      "needs_background": "light"
     },
     "output_type": "display_data"
    }
   ],
   "source": [
    "plt.plot(np.arange(2,15), scores, linewidth=1, alpha=0.6,   ##Plot scores of CV with dataset containing stop_words\n",
    "         marker='o', color=\"blue\", label='Without stop word')\n",
    "\n",
    "plt.plot(np.arange(2,15), scores_stopWords, linewidth=1, alpha=0.6,  ##Plot scores of CV with dataset without stop_words\n",
    "         marker='o', color=\"grey\", label='With stop words')\n",
    "plt.title(\"Average score of crossing validation\")\n",
    "plt.ylabel('Score')\n",
    "plt.xlabel('Number of folds')\n",
    "plt.legend()\n",
    "plt.show()"
   ]
  },
  {
   "cell_type": "markdown",
   "metadata": {},
   "source": [
    "We notice that in some folds when we remove stop-words in the texts, we can improve the performance of the estimator. But for other folds the performance are not improved.\n",
    "We can conclude that this means that the stop words don't always have a significant influence on the results of classification"
   ]
  },
  {
   "cell_type": "markdown",
   "metadata": {},
   "source": [
    "## Scikit-learn use"
   ]
  },
  {
   "cell_type": "code",
   "execution_count": 39,
   "metadata": {},
   "outputs": [],
   "source": [
    "##Import labraries\n",
    "from sklearn.naive_bayes import MultinomialNB\n",
    "from sklearn.feature_extraction.text import CountVectorizer\n",
    "from sklearn.pipeline import Pipeline\n",
    "from sklearn.svm import LinearSVC\n",
    "from sklearn.linear_model import LogisticRegression\n",
    "from nltk import SnowballStemmer\n",
    "import nltk\n",
    "from nltk import pos_tag\n",
    "from nltk import word_tokenize\n",
    "from nltk.corpus import stopwords \n",
    "stop_words = set(stopwords.words('english')) "
   ]
  },
  {
   "cell_type": "markdown",
   "metadata": {},
   "source": [
    "### Q1 : Compare your implementation with scikitlearn."
   ]
  },
  {
   "cell_type": "code",
   "execution_count": 69,
   "metadata": {},
   "outputs": [],
   "source": [
    "##Convert the collection of text documents to a matrix of token counts\n",
    "vectorizer = CountVectorizer()"
   ]
  },
  {
   "cell_type": "code",
   "execution_count": 70,
   "metadata": {},
   "outputs": [],
   "source": [
    "##Naive Bayes classifier for multinomial models\n",
    "clf = MultinomialNB()"
   ]
  },
  {
   "cell_type": "code",
   "execution_count": 71,
   "metadata": {},
   "outputs": [],
   "source": [
    "##Pipeline of transforms with Naive Bayes as final estimator.\n",
    "vecto_NB = Pipeline([('vectorizer', vectorizer), ('NB', clf)])"
   ]
  },
  {
   "cell_type": "code",
   "execution_count": 72,
   "metadata": {},
   "outputs": [],
   "source": [
    "## 5_Folds Cross validation for each classifier allowing words, chars and bigrams.\n",
    "\n",
    "##Counting stop words\n",
    "CV_NB_word = cross_val_score(vecto_NB.set_params(\n",
    "    vectorizer__analyzer='word',vectorizer__stop_words=None), texts, y, cv=5)\n",
    "CV_NB_char = cross_val_score(vecto_NB.set_params(\n",
    "    vectorizer__analyzer='char',vectorizer__stop_words=None), texts, y, cv=5)\n",
    "CV_bigram_word = cross_val_score(vecto_NB.set_params(\n",
    "    vectorizer__analyzer='word', vectorizer__ngram_range=(2, 2), vectorizer__stop_words=None), texts, y, cv=5)\n",
    "\n",
    "\n",
    "##Eliminating stop words\n",
    "CV_NB_word_sw = cross_val_score(vecto_NB.set_params(\n",
    "    vectorizer__analyzer='word',vectorizer__stop_words='english'), texts, y, cv=5)\n",
    "CV_NB_char_sw = cross_val_score(vecto_NB.set_params(\n",
    "    vectorizer__analyzer='char',vectorizer__stop_words='english'), texts, y, cv=5)\n",
    "CV_bigram_word_sw = cross_val_score(vecto_NB.set_params(\n",
    "    vectorizer__analyzer='word', vectorizer__ngram_range=(2, 2), vectorizer__stop_words='english'), texts, y, cv=5)"
   ]
  },
  {
   "cell_type": "code",
   "execution_count": 73,
   "metadata": {},
   "outputs": [
    {
     "data": {
      "text/plain": [
       "[]"
      ]
     },
     "execution_count": 73,
     "metadata": {},
     "output_type": "execute_result"
    },
    {
     "data": {
      "image/png": "[encoded data removed]",
      "text/plain": [
       "<Figure size 864x648 with 1 Axes>"
      ]
     },
     "metadata": {
      "needs_background": "light"
     },
     "output_type": "display_data"
    }
   ],
   "source": [
    "label = ['NB', 'NB-SW','NBsklrn-word'  , 'NBsklrn-char'\n",
    "         , 'NB_bigrams'\n",
    "         ,'NBsklrn-word-SW'\n",
    "         , 'NBsklrn-char-SW','NB_bigrams_SW' ]\n",
    "data = [scores,scores_with_stop_words,CV_NB_word\n",
    "           ,CV_NB_char\n",
    "           ,CV_bigram_word\n",
    "           ,CV_NB_word_sw\n",
    "           ,CV_NB_char_sw\n",
    "           ,CV_bigram_word_sw\n",
    "          ]\n",
    "\n",
    "fig,ax = plt.subplots(figsize=(12,9))\n",
    "\n",
    "x = [np.mean(res) for res in data]\n",
    "rect = ax.bar(range(len(label)),x, tick_label =label)\n",
    "plt.ylim(min(x) -0.01, max(x) + 0.01)\n",
    "plt.title(\"Test Score\")\n",
    "def autolabel(rects):\n",
    "    \"\"\"\n",
    "    Attach a text label above each bar displaying its height\n",
    "    \"\"\"\n",
    "    for rect in rects:\n",
    "        height = rect.get_height()\n",
    "        ax.text(rect.get_x() + rect.get_width()/2., 1.01*height,\n",
    "                '%.3f' % height,\n",
    "                ha='center', va='bottom')\n",
    "\n",
    "autolabel(rect)\n",
    "\n",
    "plt.plot()"
   ]
  },
  {
   "cell_type": "markdown",
   "metadata": {},
   "source": [
    "Our imlementation has good result comparing to sklearn librairies.\n",
    "According to the results, using substrings and characters we get the lowest results.\n",
    "Removing stop words not always improve performance.\n",
    "Using biagrams can imporve results."
   ]
  },
  {
   "cell_type": "markdown",
   "metadata": {},
   "source": [
    "In the following work i will experiment classifiers by allowing words."
   ]
  },
  {
   "cell_type": "markdown",
   "metadata": {},
   "source": [
    "### Q2 : Test another classification method scikitlearn (ex : LinearSVC, LogisticRegression)."
   ]
  },
  {
   "cell_type": "code",
   "execution_count": 74,
   "metadata": {},
   "outputs": [],
   "source": [
    "##Using LinearSVC\n",
    "clf = LinearSVC()\n",
    "vecto_svc = Pipeline([('vectorizer', vectorizer), ('svc', clf)])\n",
    "\n",
    "##Using LogisticRegression\n",
    "clf = LogisticRegression()\n",
    "vecto_LG = Pipeline([('vectorizer', vectorizer), ('LG', clf)])"
   ]
  },
  {
   "cell_type": "code",
   "execution_count": 75,
   "metadata": {},
   "outputs": [
    {
     "name": "stderr",
     "output_type": "stream",
     "text": [
      "C:\\Users\\ahlem\\Anaconda3\\lib\\site-packages\\sklearn\\svm\\base.py:922: ConvergenceWarning: Liblinear failed to converge, increase the number of iterations.\n",
      "  \"the number of iterations.\", ConvergenceWarning)\n",
      "C:\\Users\\ahlem\\Anaconda3\\lib\\site-packages\\sklearn\\linear_model\\logistic.py:433: FutureWarning: Default solver will be changed to 'lbfgs' in 0.22. Specify a solver to silence this warning.\n",
      "  FutureWarning)\n",
      "C:\\Users\\ahlem\\Anaconda3\\lib\\site-packages\\sklearn\\svm\\base.py:922: ConvergenceWarning: Liblinear failed to converge, increase the number of iterations.\n",
      "  \"the number of iterations.\", ConvergenceWarning)\n",
      "C:\\Users\\ahlem\\Anaconda3\\lib\\site-packages\\sklearn\\linear_model\\logistic.py:433: FutureWarning: Default solver will be changed to 'lbfgs' in 0.22. Specify a solver to silence this warning.\n",
      "  FutureWarning)\n"
     ]
    }
   ],
   "source": [
    "##5_Folds Cross validation for each classifier allowing words\n",
    "\n",
    "##Including stop words\n",
    "CV_svc = cross_val_score(vecto_svc.set_params(\n",
    "    vectorizer__analyzer='word',vectorizer__stop_words=None), texts, y, cv=5)\n",
    "\n",
    "CV_LG=cross_val_score(vecto_LG.set_params(\n",
    "    vectorizer__analyzer='word',vectorizer__stop_words=None), texts, y, cv=5)\n",
    "\n",
    "##Eliminating stop words\n",
    "CV_svc_sw = cross_val_score(vecto_svc.set_params(\n",
    "    vectorizer__analyzer='word',vectorizer__stop_words='english'), texts, y, cv=5)\n",
    "\n",
    "CV_LG_sw=cross_val_score(vecto_LG.set_params(\n",
    "    vectorizer__analyzer='word',vectorizer__stop_words='english'), texts, y, cv=5)"
   ]
  },
  {
   "cell_type": "code",
   "execution_count": 76,
   "metadata": {},
   "outputs": [
    {
     "data": {
      "text/plain": [
       "[]"
      ]
     },
     "execution_count": 76,
     "metadata": {},
     "output_type": "execute_result"
    },
    {
     "data": {
      "image/png": "[encoded data removed]",
      "text/plain": [
       "<Figure size 648x648 with 1 Axes>"
      ]
     },
     "metadata": {
      "needs_background": "light"
     },
     "output_type": "display_data"
    }
   ],
   "source": [
    "label = ['NB','NBsklearn'  , 'SVC'\n",
    "         ,'Logistic Regression']\n",
    "data = [scores,CV_NB_word\n",
    "           ,CV_svc\n",
    "           ,CV_LG]\n",
    "\n",
    "fig,ax = plt.subplots(figsize=(9,9))\n",
    "\n",
    "x = [np.mean(res) for res in data]\n",
    "rect = ax.bar(range(len(label)),x, tick_label =label)\n",
    "plt.ylim(min(x) -0.01, max(x) + 0.01)\n",
    "plt.title(\"Test Score _ word segmentation including  stop words\")\n",
    "def autolabel(rects):\n",
    "    \"\"\"\n",
    "    Attach a text label above each bar displaying its height\n",
    "    \"\"\"\n",
    "    for rect in rects:\n",
    "        height = rect.get_height()\n",
    "        ax.text(rect.get_x() + rect.get_width()/2., 1.01*height,\n",
    "                '%.3f' % height,\n",
    "                ha='center', va='bottom')\n",
    "\n",
    "autolabel(rect)\n",
    "\n",
    "plt.plot()"
   ]
  },
  {
   "cell_type": "code",
   "execution_count": 77,
   "metadata": {},
   "outputs": [
    {
     "data": {
      "text/plain": [
       "[]"
      ]
     },
     "execution_count": 77,
     "metadata": {},
     "output_type": "execute_result"
    },
    {
     "data": {
      "image/png": "[encoded data removed]",
      "text/plain": [
       "<Figure size 648x648 with 1 Axes>"
      ]
     },
     "metadata": {
      "needs_background": "light"
     },
     "output_type": "display_data"
    }
   ],
   "source": [
    "label = ['NB','NBsklearn'  , 'SVC'\n",
    "         ,'Logistic Regression']\n",
    "data = [scores_with_stop_words,CV_NB_word_sw\n",
    "           ,CV_svc_sw\n",
    "           ,CV_LG_sw]\n",
    "\n",
    "fig,ax = plt.subplots(figsize=(9,9))\n",
    "\n",
    "x = [np.mean(res) for res in data]\n",
    "rect = ax.bar(range(len(label)),x, tick_label =label)\n",
    "plt.ylim(min(x) -0.01, max(x) + 0.01)\n",
    "plt.title(\"Test Score _ word segmentation and removing stop words\")\n",
    "def autolabel(rects):\n",
    "    \"\"\"\n",
    "    Attach a text label above each bar displaying its height\n",
    "    \"\"\"\n",
    "    for rect in rects:\n",
    "        height = rect.get_height()\n",
    "        ax.text(rect.get_x() + rect.get_width()/2., 1.01*height,\n",
    "                '%.3f' % height,\n",
    "                ha='center', va='bottom')\n",
    "\n",
    "autolabel(rect)\n",
    "\n",
    "plt.plot()"
   ]
  },
  {
   "cell_type": "markdown",
   "metadata": {},
   "source": [
    "As we see in thoss histogramme, Logistic Regression has the best performance when we segment our text in words and both when we remove and include stop words.\n",
    "\n",
    "Removing stop words inhance the performance for both LinearSVC and Logistic Regression."
   ]
  },
  {
   "cell_type": "markdown",
   "metadata": {},
   "source": [
    "### Question 3 : Use NLTK library in order to process a stemming. You will use the class SnowballStemmer."
   ]
  },
  {
   "cell_type": "code",
   "execution_count": 5,
   "metadata": {},
   "outputs": [],
   "source": [
    "##Implementation of the class StemmedCountVectorizer\n",
    "stemmer = SnowballStemmer(\"english\")\n",
    "class StemmedCountVectorizer(CountVectorizer):\n",
    "    def build_analyzer(self):\n",
    "        analyzer = super(StemmedCountVectorizer, self).build_analyzer()\n",
    "        return lambda doc: ([stemmer.stem(w) for w in analyzer(doc)])"
   ]
  },
  {
   "cell_type": "code",
   "execution_count": 7,
   "metadata": {},
   "outputs": [],
   "source": [
    "##Naive Bayes with stemmer\n",
    "NB= MultinomialNB()\n",
    "vecto_NB_stm = Pipeline([('vectorizer', StemmedCountVectorizer()), ('NB', NB)])\n",
    "nb_stem_score = np.mean(cross_val_score(vecto_NB_stm, texts, y, cv=5))"
   ]
  },
  {
   "cell_type": "code",
   "execution_count": 8,
   "metadata": {},
   "outputs": [
    {
     "name": "stderr",
     "output_type": "stream",
     "text": [
      "C:\\Users\\ahlem\\Anaconda3\\lib\\site-packages\\sklearn\\linear_model\\logistic.py:433: FutureWarning: Default solver will be changed to 'lbfgs' in 0.22. Specify a solver to silence this warning.\n",
      "  FutureWarning)\n"
     ]
    }
   ],
   "source": [
    "## LogisticRegression with stemmer\n",
    "vecto_LG_stm = Pipeline([('vectorizer', StemmedCountVectorizer()),\n",
    "                      ('LR', LogisticRegression())])\n",
    "lG_stem_score = np.mean(cross_val_score(vecto_LG_stm, texts, y, cv=5))"
   ]
  },
  {
   "cell_type": "code",
   "execution_count": 10,
   "metadata": {},
   "outputs": [
    {
     "name": "stderr",
     "output_type": "stream",
     "text": [
      "C:\\Users\\ahlem\\Anaconda3\\lib\\site-packages\\sklearn\\svm\\base.py:922: ConvergenceWarning: Liblinear failed to converge, increase the number of iterations.\n",
      "  \"the number of iterations.\", ConvergenceWarning)\n"
     ]
    }
   ],
   "source": [
    "##Linear SVC with stemmer\n",
    "svc = LinearSVC()\n",
    "vecto_NB_stm = Pipeline([('vectorizer', StemmedCountVectorizer()), ('svc', svc)])\n",
    "nb_stem_score = np.mean(cross_val_score(vecto_NB_stm, texts, y, cv=5))"
   ]
  },
  {
   "cell_type": "code",
   "execution_count": 12,
   "metadata": {},
   "outputs": [
    {
     "data": {
      "text/plain": [
       "[]"
      ]
     },
     "execution_count": 12,
     "metadata": {},
     "output_type": "execute_result"
    },
    {
     "data": {
      "image/png": "[encoded data removed]",
      "text/plain": [
       "<Figure size 648x648 with 1 Axes>"
      ]
     },
     "metadata": {
      "needs_background": "light"
     },
     "output_type": "display_data"
    }
   ],
   "source": [
    "label = ['NBayes','Logistic Regression'  , 'Linear SVC'\n",
    "         ]\n",
    "data = [nb_stem_score,lG_stem_score\n",
    "           ,nb_stem_score\n",
    "           ]\n",
    "\n",
    "fig,ax = plt.subplots(figsize=(9,9))\n",
    "\n",
    "x = [np.mean(res) for res in data]\n",
    "rect = ax.bar(range(len(label)),x, tick_label =label)\n",
    "plt.ylim(min(x) -0.01, max(x) + 0.01)\n",
    "plt.title(\"Test Score _ NLTK stemming\")\n",
    "def autolabel(rects):\n",
    "    \"\"\"\n",
    "    Attach a text label above each bar displaying its height\n",
    "    \"\"\"\n",
    "    for rect in rects:\n",
    "        height = rect.get_height()\n",
    "        ax.text(rect.get_x() + rect.get_width()/2., 1.01*height,\n",
    "                '%.3f' % height,\n",
    "                ha='center', va='bottom')\n",
    "\n",
    "autolabel(rect)\n",
    "\n",
    "plt.plot()"
   ]
  },
  {
   "cell_type": "markdown",
   "metadata": {},
   "source": [
    "### Q4 : Filter words by grammatical category (POS : Part Of Speech) and keep only nouns,verbs, adverbs and adjectives for classification."
   ]
  },
  {
   "cell_type": "code",
   "execution_count": 55,
   "metadata": {},
   "outputs": [
    {
     "name": "stderr",
     "output_type": "stream",
     "text": [
      "[nltk_data] Downloading package averaged_perceptron_tagger to\n",
      "[nltk_data]     C:\\Users\\ahlem\\AppData\\Roaming\\nltk_data...\n",
      "[nltk_data]   Package averaged_perceptron_tagger is already up-to-\n",
      "[nltk_data]       date!\n"
     ]
    },
    {
     "data": {
      "text/plain": [
       "True"
      ]
     },
     "execution_count": 55,
     "metadata": {},
     "output_type": "execute_result"
    }
   ],
   "source": [
    "nltk.download('averaged_perceptron_tagger')"
   ]
  },
  {
   "cell_type": "code",
   "execution_count": 60,
   "metadata": {},
   "outputs": [],
   "source": [
    "##Tokenize sentences using word_tokenize\n",
    "##Appling POS TAG on each word\n",
    "##Filering the POS TAG to keep only words that are noun, verb, adjective or adverb.\n",
    "filtered_tagged_words = [list(filter(lambda x: (x[1] == 'NN')   \n",
    "                         or (x[1] == 'VB') \n",
    "                         or (x[1] == 'DT') \n",
    "                         or (x[1] == 'JJ')\n",
    "                         or (x[1]=='RB'), pos_tag(word_tokenize(txt)))) for txt in texts]\n",
    "   "
   ]
  },
  {
   "cell_type": "code",
   "execution_count": 73,
   "metadata": {},
   "outputs": [
    {
     "data": {
      "text/plain": [
       "[('the', 'DT'),\n",
       " ('happy', 'JJ'),\n",
       " ('bastard', 'NN'),\n",
       " ('quick', 'JJ'),\n",
       " ('movie', 'NN'),\n",
       " ('review', 'NN'),\n",
       " ('damn', 'NN'),\n",
       " ('bug', 'NN'),\n",
       " ('a', 'DT'),\n",
       " ('head', 'JJ'),\n",
       " ('start', 'NN'),\n",
       " ('this', 'DT'),\n",
       " ('movie', 'NN'),\n",
       " ('jamie', 'NN'),\n",
       " ('lee', 'NN'),\n",
       " ('curtis', 'NN'),\n",
       " ('another', 'DT'),\n",
       " ('baldwin', 'NN'),\n",
       " ('brother', 'NN'),\n",
       " ('this', 'DT'),\n",
       " ('time', 'NN'),\n",
       " ('a', 'DT'),\n",
       " ('story', 'NN'),\n",
       " ('a', 'DT'),\n",
       " ('crew', 'NN'),\n",
       " ('a', 'DT'),\n",
       " ('tugboat', 'NN'),\n",
       " ('a', 'DT'),\n",
       " ('deserted', 'JJ'),\n",
       " ('russian', 'JJ'),\n",
       " ('tech', 'NN'),\n",
       " ('ship', 'NN'),\n",
       " ('a', 'DT'),\n",
       " ('strangeness', 'NN'),\n",
       " ('the', 'DT'),\n",
       " ('power', 'NN'),\n",
       " ('back', 'RB'),\n",
       " ('little', 'JJ'),\n",
       " ('know', 'VB'),\n",
       " ('the', 'DT'),\n",
       " ('power', 'NN'),\n",
       " ('the', 'DT'),\n",
       " ('gore', 'NN'),\n",
       " ('a', 'DT'),\n",
       " ('few', 'JJ'),\n",
       " ('action', 'NN'),\n",
       " ('here', 'RB'),\n",
       " ('there', 'RB'),\n",
       " ('virus', 'NN'),\n",
       " ('still', 'RB'),\n",
       " ('very', 'RB'),\n",
       " ('empty', 'JJ'),\n",
       " ('a', 'DT'),\n",
       " ('movie', 'NN'),\n",
       " ('all', 'DT'),\n",
       " ('flash', 'NN'),\n",
       " ('no', 'DT'),\n",
       " ('substance', 'NN'),\n",
       " (\"n't\", 'RB'),\n",
       " ('know', 'VB'),\n",
       " ('the', 'DT'),\n",
       " ('crew', 'NN'),\n",
       " ('really', 'RB'),\n",
       " ('the', 'DT'),\n",
       " ('middle', 'NN'),\n",
       " ('nowhere', 'RB'),\n",
       " (\"n't\", 'RB'),\n",
       " ('know', 'VB'),\n",
       " ('the', 'DT'),\n",
       " ('origin', 'NN'),\n",
       " ('the', 'DT'),\n",
       " ('ship', 'NN'),\n",
       " ('just', 'RB'),\n",
       " ('a', 'DT'),\n",
       " ('big', 'JJ'),\n",
       " ('pink', 'NN'),\n",
       " ('flashy', 'JJ'),\n",
       " ('thing', 'NN'),\n",
       " ('the', 'DT'),\n",
       " ('mir', 'NN'),\n",
       " ('course', 'NN'),\n",
       " (\"n't\", 'RB'),\n",
       " ('know', 'VB'),\n",
       " ('donald', 'JJ'),\n",
       " ('sutherland', 'NN'),\n",
       " ('drunkenly', 'RB'),\n",
       " ('here', 'RB'),\n",
       " ('just', 'RB'),\n",
       " ('let', 'VB'),\n",
       " ('chase', 'VB'),\n",
       " ('these', 'DT'),\n",
       " ('some', 'DT'),\n",
       " ('the', 'DT'),\n",
       " ('acting', 'NN'),\n",
       " ('below', 'JJ'),\n",
       " ('average', 'NN'),\n",
       " ('even', 'RB'),\n",
       " ('the', 'DT'),\n",
       " ('curtis', 'NN'),\n",
       " ('likely', 'JJ'),\n",
       " ('get', 'VB'),\n",
       " ('a', 'DT'),\n",
       " ('kick', 'NN'),\n",
       " ('work', 'NN'),\n",
       " ('halloween', 'JJ'),\n",
       " ('h20', 'NN'),\n",
       " ('sutherland', 'NN'),\n",
       " ('baldwin', 'NN'),\n",
       " ('well', 'RB'),\n",
       " ('a', 'DT'),\n",
       " ('baldwin', 'NN'),\n",
       " ('course', 'NN'),\n",
       " ('the', 'DT'),\n",
       " ('real', 'JJ'),\n",
       " ('star', 'NN'),\n",
       " ('here', 'RB'),\n",
       " ('stan', 'JJ'),\n",
       " ('winston', 'NN'),\n",
       " ('robot', 'NN'),\n",
       " ('design', 'NN'),\n",
       " ('some', 'DT'),\n",
       " ('schnazzy', 'JJ'),\n",
       " ('cgi', 'NN'),\n",
       " ('the', 'DT'),\n",
       " ('occasional', 'JJ'),\n",
       " ('good', 'JJ'),\n",
       " ('gore', 'NN'),\n",
       " ('shot', 'NN'),\n",
       " ('someone', 'NN'),\n",
       " ('brain', 'NN'),\n",
       " ('so', 'RB'),\n",
       " ('body', 'NN'),\n",
       " ('really', 'RB'),\n",
       " ('here', 'RB'),\n",
       " ('movie', 'NN'),\n",
       " ('otherwise', 'RB'),\n",
       " ('pretty', 'RB'),\n",
       " ('much', 'JJ'),\n",
       " ('a', 'DT'),\n",
       " ('sunken', 'JJ'),\n",
       " ('ship', 'NN'),\n",
       " ('a', 'DT'),\n",
       " ('movie', 'NN')]"
      ]
     },
     "execution_count": 73,
     "metadata": {},
     "output_type": "execute_result"
    }
   ],
   "source": [
    "filtered_tagged_words[1]"
   ]
  },
  {
   "cell_type": "code",
   "execution_count": 63,
   "metadata": {},
   "outputs": [],
   "source": [
    "##Construct the final vocabulary of word after stemming and POS Tagging \n",
    "def extract_vocab(filtered):\n",
    "    postagged = []\n",
    "    for i, tuples in enumerate(filtered, 0):\n",
    "        postagged.append('')\n",
    "        for t in tuples:\n",
    "            postagged[i] += t[0] + ' '\n",
    "    return postagged\n"
   ]
  },
  {
   "cell_type": "code",
   "execution_count": 64,
   "metadata": {},
   "outputs": [],
   "source": [
    "filtered_voc=extract_vocab(filtered_tagged_words)"
   ]
  },
  {
   "cell_type": "markdown",
   "metadata": {},
   "source": [
    "<b>Appling classifiers</b>"
   ]
  },
  {
   "cell_type": "code",
   "execution_count": 66,
   "metadata": {},
   "outputs": [
    {
     "name": "stderr",
     "output_type": "stream",
     "text": [
      "C:\\Users\\ahlem\\Anaconda3\\lib\\site-packages\\sklearn\\model_selection\\_split.py:2053: FutureWarning: You should specify a value for 'cv' instead of relying on the default value. The default value will change from 3 to 5 in version 0.22.\n",
      "  warnings.warn(CV_WARNING, FutureWarning)\n"
     ]
    }
   ],
   "source": [
    "## MultinomialNB\n",
    "nb_pipline = Pipeline([('vectorizer', CountVectorizer()), ('NB', MultinomialNB())])\n",
    "nb_pos_tag_score = np.mean(cross_val_score(nb_pipline, filtered_voc, y))"
   ]
  },
  {
   "cell_type": "code",
   "execution_count": 67,
   "metadata": {},
   "outputs": [
    {
     "name": "stderr",
     "output_type": "stream",
     "text": [
      "C:\\Users\\ahlem\\Anaconda3\\lib\\site-packages\\sklearn\\model_selection\\_split.py:2053: FutureWarning: You should specify a value for 'cv' instead of relying on the default value. The default value will change from 3 to 5 in version 0.22.\n",
      "  warnings.warn(CV_WARNING, FutureWarning)\n"
     ]
    }
   ],
   "source": [
    "## SVC\n",
    "svc_pipline = Pipeline([('vectorizer', CountVectorizer()),\n",
    "                      ('svc', LinearSVC())])\n",
    "svc_pos_tag_score = np.mean(cross_val_score(svc_pipline, filtered_voc, y))"
   ]
  },
  {
   "cell_type": "code",
   "execution_count": 68,
   "metadata": {},
   "outputs": [
    {
     "name": "stderr",
     "output_type": "stream",
     "text": [
      "C:\\Users\\ahlem\\Anaconda3\\lib\\site-packages\\sklearn\\model_selection\\_split.py:2053: FutureWarning: You should specify a value for 'cv' instead of relying on the default value. The default value will change from 3 to 5 in version 0.22.\n",
      "  warnings.warn(CV_WARNING, FutureWarning)\n",
      "C:\\Users\\ahlem\\Anaconda3\\lib\\site-packages\\sklearn\\linear_model\\logistic.py:433: FutureWarning: Default solver will be changed to 'lbfgs' in 0.22. Specify a solver to silence this warning.\n",
      "  FutureWarning)\n"
     ]
    }
   ],
   "source": [
    "## LogisticRegression\n",
    "lr_pipline = Pipeline([('vectorizer', CountVectorizer()),\n",
    "                      ('lr', LogisticRegression())])\n",
    "lr_pos_tag_score = np.mean(cross_val_score(lr_pipline, filtered_voc, y))"
   ]
  },
  {
   "cell_type": "code",
   "execution_count": 74,
   "metadata": {},
   "outputs": [
    {
     "name": "stdout",
     "output_type": "stream",
     "text": [
      "The scores obtained are lower than those obtained without stemming and POS tagging. the Stem and pos-tag don t have a significant influence on the classification of document with our samples.\n"
     ]
    },
    {
     "data": {
      "image/png": "[encoded data removed]",
      "text/plain": [
       "<Figure size 648x648 with 1 Axes>"
      ]
     },
     "metadata": {
      "needs_background": "light"
     },
     "output_type": "display_data"
    }
   ],
   "source": [
    "label = ['NBayes'  , 'Linear SVC','Logistic Regression'\n",
    "         ]\n",
    "data = [nb_pos_tag_score,svc_pos_tag_score\n",
    "           ,lr_pos_tag_score\n",
    "           ]\n",
    "\n",
    "fig,ax = plt.subplots(figsize=(9,9))\n",
    "\n",
    "x = [np.mean(res) for res in data]\n",
    "rect = ax.bar(range(len(label)),x, tick_label =label)\n",
    "plt.ylim(min(x) -0.01, max(x) + 0.01)\n",
    "plt.title(\"Test Score _ NLTK stemming and POS TAG\")\n",
    "def autolabel(rects):\n",
    "    \"\"\"\n",
    "    Attach a text label above each bar displaying its height\n",
    "    \"\"\"\n",
    "    for rect in rects:\n",
    "        height = rect.get_height()\n",
    "        ax.text(rect.get_x() + rect.get_width()/2., 1.01*height,\n",
    "                '%.3f' % height,\n",
    "                ha='center', va='bottom')\n",
    "\n",
    "autolabel(rect)\n",
    "\n",
    "plt.plot()\n",
    "print('The scores obtained are lower than those obtained without stemming and POS tagging. the Stem and pos-tag don t have a significant influence on the classification of document with our samples.')"
   ]
  },
  {
   "cell_type": "markdown",
   "metadata": {},
   "source": [
    "The scores obtained are lower than those obtained without stemming and POS tagging. \n",
    "the Stem and pos-tag don't have a significant influence on the classification of document with our samples."
   ]
  },
  {
   "cell_type": "markdown",
   "metadata": {},
   "source": [
    "##########################################################################################"
   ]
  },
  {
   "cell_type": "code",
   "execution_count": null,
   "metadata": {},
   "outputs": [],
   "source": []
  }
 ],
 "metadata": {
  "kernelspec": {
   "display_name": "Python 3",
   "language": "python",
   "name": "python3"
  },
  "language_info": {
   "codemirror_mode": {
    "name": "ipython",
    "version": 3
   },
   "file_extension": ".py",
   "mimetype": "text/x-python",
   "name": "python",
   "nbconvert_exporter": "python",
   "pygments_lexer": "ipython3",
   "version": "3.7.1"
  }
 },
 "nbformat": 4,
 "nbformat_minor": 2
}
